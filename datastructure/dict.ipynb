{
 "cells": [
  {
   "cell_type": "code",
   "execution_count": 9,
   "id": "cbdbcf75",
   "metadata": {},
   "outputs": [
    {
     "data": {
      "text/plain": [
       "{'amzn': 500, 'tsla': 900, 'goog': 780}"
      ]
     },
     "execution_count": 9,
     "metadata": {},
     "output_type": "execute_result"
    }
   ],
   "source": [
    "stock_prices={'amzn':500,'tsla':900,'goog':780}\n",
    "stock_prices"
   ]
  },
  {
   "cell_type": "markdown",
   "id": "387108f0",
   "metadata": {},
   "source": [
    "if you want to access value you have to use key\n",
    "\n",
    "we dont have the concept of index in dict\n",
    "\n",
    "you cannot have 2 elem with same key\n",
    "\n",
    "accessing elem"
   ]
  },
  {
   "cell_type": "code",
   "execution_count": null,
   "id": "0f7ef843",
   "metadata": {},
   "outputs": [
    {
     "data": {
      "text/plain": [
       "500"
      ]
     },
     "execution_count": 20,
     "metadata": {},
     "output_type": "execute_result"
    }
   ],
   "source": [
    "stock_prices.get('amzn') #access element\n",
    "\n",
    "stock_prices['amzn'] #old way \n"
   ]
  },
  {
   "cell_type": "code",
   "execution_count": 21,
   "id": "2e3dd473",
   "metadata": {},
   "outputs": [
    {
     "data": {
      "text/plain": [
       "{'amzn': 300, 'tsla': 900, 'goog': 780, 'nifty': 1000}"
      ]
     },
     "execution_count": 21,
     "metadata": {},
     "output_type": "execute_result"
    }
   ],
   "source": [
    "stock_prices.update({'nifty':1000}) #add new element / update \n",
    "\n",
    "stock_prices['amzn']=300 #old way\n",
    "stock_prices"
   ]
  },
  {
   "cell_type": "code",
   "execution_count": 16,
   "id": "ff4f1dc2",
   "metadata": {},
   "outputs": [
    {
     "data": {
      "text/plain": [
       "bool"
      ]
     },
     "execution_count": 16,
     "metadata": {},
     "output_type": "execute_result"
    }
   ],
   "source": [
    "a=True\n",
    "type(a)"
   ]
  },
  {
   "cell_type": "code",
   "execution_count": null,
   "id": "6582b180",
   "metadata": {},
   "outputs": [
    {
     "data": {
      "text/plain": [
       "{'amzn': 500, 'tsla': 900, 'goog': 780}"
      ]
     },
     "execution_count": 19,
     "metadata": {},
     "output_type": "execute_result"
    }
   ],
   "source": [
    "stock_prices.pop('nifty') #remove key\n",
    "stock_prices"
   ]
  }
 ],
 "metadata": {
  "kernelspec": {
   "display_name": "Python 3",
   "language": "python",
   "name": "python3"
  },
  "language_info": {
   "codemirror_mode": {
    "name": "ipython",
    "version": 3
   },
   "file_extension": ".py",
   "mimetype": "text/x-python",
   "name": "python",
   "nbconvert_exporter": "python",
   "pygments_lexer": "ipython3",
   "version": "3.12.9"
  }
 },
 "nbformat": 4,
 "nbformat_minor": 5
}
