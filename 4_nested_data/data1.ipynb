{
 "cells": [
  {
   "cell_type": "code",
   "execution_count": 8,
   "id": "8a744ac0",
   "metadata": {},
   "outputs": [
    {
     "data": {
      "text/plain": [
       "78"
      ]
     },
     "execution_count": 8,
     "metadata": {},
     "output_type": "execute_result"
    }
   ],
   "source": [
    "l1=[ [2,3,4], [5,6,7], [77,88,99, [89,78,67] ] ]\n",
    "l1[2][3][1]"
   ]
  },
  {
   "cell_type": "code",
   "execution_count": null,
   "id": "d0e167f2",
   "metadata": {},
   "outputs": [
    {
     "data": {
      "text/plain": [
       "13"
      ]
     },
     "execution_count": 19,
     "metadata": {},
     "output_type": "execute_result"
    }
   ],
   "source": [
    "l2=[44,55,66,[67,57,46,[78,90,92,[12,13,14]]]]  #list of list\n",
    "l2[3][3][3][1]"
   ]
  },
  {
   "cell_type": "code",
   "execution_count": null,
   "id": "7b3ad20f",
   "metadata": {},
   "outputs": [
    {
     "data": {
      "text/plain": [
       "666"
      ]
     },
     "execution_count": 25,
     "metadata": {},
     "output_type": "execute_result"
    }
   ],
   "source": [
    "d1={\n",
    "    'tech':[333,444,555,666],    #dict of list\n",
    "    'fin':[66,77,88],\n",
    "    'gas':[89,67,45]\n",
    "}\n",
    "d1.get('tech')[3]"
   ]
  },
  {
   "cell_type": "code",
   "execution_count": 28,
   "id": "e0c55a4e",
   "metadata": {},
   "outputs": [
    {
     "data": {
      "text/plain": [
       "683"
      ]
     },
     "execution_count": 28,
     "metadata": {},
     "output_type": "execute_result"
    }
   ],
   "source": [
    "d2={\n",
    "    'tech':{'tcs':600,'amzn':780,'goog':890},\n",
    "    'fin':{'jpmorgan':678,'hdfc':683},\n",
    "    'telecom':{'airtel':789,'jio':567}\n",
    "}\n",
    "d2.get('fin').get('hdfc')"
   ]
  },
  {
   "cell_type": "code",
   "execution_count": 41,
   "id": "b1daa79c",
   "metadata": {},
   "outputs": [],
   "source": [
    "hedge_fund_portfolio = {\n",
    "    \"fund_name\": \"Alpha Investments\",\n",
    "    \"portfolio_value\": 50000000,\n",
    "    \"investments\": [\n",
    "        {\n",
    "            \"type\": \"Equity\",\n",
    "            \"holdings\": [\n",
    "                {\"ticker\": \"AAPL\", \"quantity\": 10000, \"average_buy_price\": 120},\n",
    "                {\"ticker\": \"TSLA\", \"quantity\": 5000, \"average_buy_price\": 600}\n",
    "            ]\n",
    "        },\n",
    "        {\n",
    "            \"type\": \"Fixed Income\",\n",
    "            \"holdings\": [\n",
    "                {\"bond_issue\": \"US Treasuries\", \"amount\": 10000000, \"yield\": 1.5}\n",
    "            ]\n",
    "        },\n",
    "        {\n",
    "            \"type\": \"Derivatives\",\n",
    "            \"holdings\": [\n",
    "                {\"instrument\": \"Options\", \"details\": {\"underlying\": \"GOOGL\", \"type\": \"Call\", \"strike_price\": 1500}}\n",
    "            ]\n",
    "        }\n",
    "    ],\n",
    " \n",
    "    \"performance_metrics\": {\n",
    "        \"year_to_date_return\": 5.2,\n",
    "        \"five_year_annualized_return\": 7.1\n",
    "    }\n",
    "}\n"
   ]
  },
  {
   "cell_type": "code",
   "execution_count": 55,
   "id": "920436c4",
   "metadata": {},
   "outputs": [
    {
     "name": "stdout",
     "output_type": "stream",
     "text": [
      "1500\n"
     ]
    },
    {
     "data": {
      "text/plain": [
       "int"
      ]
     },
     "execution_count": 55,
     "metadata": {},
     "output_type": "execute_result"
    }
   ],
   "source": [
    "a=hedge_fund_portfolio.get('investments')[2].get('holdings')[0].get('details').get('strike_price')\n",
    "print(a)\n",
    "type(a)"
   ]
  },
  {
   "cell_type": "code",
   "execution_count": 38,
   "id": "ac1f6354",
   "metadata": {},
   "outputs": [
    {
     "name": "stdout",
     "output_type": "stream",
     "text": [
      "600\n"
     ]
    },
    {
     "data": {
      "text/plain": [
       "int"
      ]
     },
     "execution_count": 38,
     "metadata": {},
     "output_type": "execute_result"
    }
   ],
   "source": [
    "a=hedge_fund_portfolio.get('investments')[0].get('holdings')[1].get('average_buy_price')\n",
    "print(a)\n",
    "type(a)"
   ]
  },
  {
   "cell_type": "code",
   "execution_count": 65,
   "id": "281b6347",
   "metadata": {},
   "outputs": [],
   "source": [
    "credit_risk_profiles = {\n",
    "    \"individuals\": [\n",
    "        {\n",
    "            \"name\": \"John Doe\",\n",
    "            \"credit_score\": 750,\n",
    "            \"outstanding_loans\": {\n",
    "                \"auto_loan\": {\"amount\": 20000, \"interest_rate\": 3.5},\n",
    "                \"home_loan\": {\"amount\": 150000, \"interest_rate\": 2.8}\n",
    "            },\n",
    "            \"payment_history\": [(\"2024-01-10\", \"On Time\"), (\"2024-01-01\", \"Late\")]\n",
    "        },\n",
    "        {\n",
    "            \"name\": \"Jane Smith\",\n",
    "            \"credit_score\": 680,\n",
    "            \"outstanding_loans\": {\n",
    "                \"credit_card\": {\"amount\": 5000, \"interest_rate\": 12.0}\n",
    "            },\n",
    "            \"payment_history\": [(\"2024-01-10\", \"On Time\")]\n",
    "        }\n",
    "    ]\n",
    "}"
   ]
  },
  {
   "cell_type": "code",
   "execution_count": 75,
   "id": "edf3565e",
   "metadata": {},
   "outputs": [
    {
     "name": "stdout",
     "output_type": "stream",
     "text": [
      "Late\n"
     ]
    },
    {
     "data": {
      "text/plain": [
       "str"
      ]
     },
     "execution_count": 75,
     "metadata": {},
     "output_type": "execute_result"
    }
   ],
   "source": [
    "c=credit_risk_profiles.get('individuals')[0].get('payment_history')[1][1]\n",
    "print(c)\n",
    "type(c)"
   ]
  },
  {
   "cell_type": "code",
   "execution_count": 64,
   "id": "6a46898c",
   "metadata": {},
   "outputs": [
    {
     "name": "stdout",
     "output_type": "stream",
     "text": [
      "12.0\n"
     ]
    },
    {
     "data": {
      "text/plain": [
       "float"
      ]
     },
     "execution_count": 64,
     "metadata": {},
     "output_type": "execute_result"
    }
   ],
   "source": [
    "b=credit_risk_profiles.get('individuals')[1].get('outstanding_loans').get('credit_card').get('interest_rate')\n",
    "print(b)\n",
    "type(b)"
   ]
  },
  {
   "cell_type": "code",
   "execution_count": 94,
   "id": "381d1b63",
   "metadata": {},
   "outputs": [],
   "source": [
    "foreign_exchange = {\n",
    "    \"base_currency\": \"USD\",\n",
    "    \"exchange_rates\": {\n",
    "        \"EUR\": {\n",
    "            \"current_rate\": 0.85,\n",
    "            \"historical_rates\": [\n",
    "                {\"date\": \"2024-01-10\", \"rate\": 0.84},\n",
    "                {\"date\": \"2024-01-09\", \"rate\": 0.85}\n",
    "            ]\n",
    "        },\n",
    "        \"JPY\": {\n",
    "            \"current_rate\": 110.00,\n",
    "            \"historical_rates\": [\n",
    "                {\"date\": \"2024-01-10\", \"rate\": 109.50},\n",
    "                {\"date\": \"2024-01-09\", \"rate\": 110.20}\n",
    "            ]\n",
    "        }\n",
    "    }\n",
    "}"
   ]
  },
  {
   "cell_type": "code",
   "execution_count": 96,
   "id": "7b3c20fc",
   "metadata": {},
   "outputs": [
    {
     "data": {
      "text/plain": [
       "{'base_currency': 'USD',\n",
       " 'exchange_rates': {'EUR': {'current_rate': 0.85,\n",
       "   'historical_rates': [{'date': '2024-01-10', 'rate': 0.84},\n",
       "    {'date': '2024-01-09', 'rate': 0.85}]},\n",
       "  'JPY': {'current_rate': 110.0,\n",
       "   'historical_rates': [{'date': '2024-01-10', 'rate': 109.5},\n",
       "    {'date': '2024-01-09', 'rate': 110.2}]},\n",
       "  'GBP': {'current_rate': 0.75,\n",
       "   'historical_rates': [{'date': '2023-01-10', 'rate': 10.5},\n",
       "    {'date': '2023-01-09', 'rate': 11.2}]}}}"
      ]
     },
     "execution_count": 96,
     "metadata": {},
     "output_type": "execute_result"
    }
   ],
   "source": [
    "data={\n",
    "            \"current_rate\": 0.75,\n",
    "            \"historical_rates\": [\n",
    "                {\"date\": \"2023-01-10\", \"rate\": 10.50},\n",
    "                {\"date\": \"2023-01-09\", \"rate\": 11.20}\n",
    "            ]\n",
    "        }\n",
    "foreign_exchange.get(\"exchange_rates\").update({'GBP':data})\n",
    "foreign_exchange"
   ]
  },
  {
   "cell_type": "code",
   "execution_count": 93,
   "id": "4949b533",
   "metadata": {},
   "outputs": [
    {
     "data": {
      "text/plain": [
       "'2024-01-09'"
      ]
     },
     "execution_count": 93,
     "metadata": {},
     "output_type": "execute_result"
    }
   ],
   "source": [
    "foreign_exchange.get(\"exchange_rates\").get('EUR').get('historical_rates')[1].get('date')"
   ]
  },
  {
   "cell_type": "code",
   "execution_count": 85,
   "id": "555b5356",
   "metadata": {},
   "outputs": [
    {
     "name": "stdout",
     "output_type": "stream",
     "text": [
      "110.2\n"
     ]
    },
    {
     "data": {
      "text/plain": [
       "float"
      ]
     },
     "execution_count": 85,
     "metadata": {},
     "output_type": "execute_result"
    }
   ],
   "source": [
    "d=foreign_exchange.get(\"exchange_rates\").get('JPY').get('historical_rates')[1].get('rate')\n",
    "print(d)\n",
    "type(d)"
   ]
  }
 ],
 "metadata": {
  "kernelspec": {
   "display_name": "Python 3",
   "language": "python",
   "name": "python3"
  },
  "language_info": {
   "codemirror_mode": {
    "name": "ipython",
    "version": 3
   },
   "file_extension": ".py",
   "mimetype": "text/x-python",
   "name": "python",
   "nbconvert_exporter": "python",
   "pygments_lexer": "ipython3",
   "version": "3.12.9"
  }
 },
 "nbformat": 4,
 "nbformat_minor": 5
}
