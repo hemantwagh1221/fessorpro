{
 "cells": [
  {
   "cell_type": "code",
   "execution_count": 1,
   "id": "2bd18df8",
   "metadata": {},
   "outputs": [
    {
     "data": {
      "text/plain": [
       "'hellw'"
      ]
     },
     "execution_count": 1,
     "metadata": {},
     "output_type": "execute_result"
    }
   ],
   "source": [
    "'hello'.replace('o','w')"
   ]
  },
  {
   "cell_type": "code",
   "execution_count": 3,
   "id": "818a609e",
   "metadata": {},
   "outputs": [
    {
     "data": {
      "text/plain": [
       "4"
      ]
     },
     "execution_count": 3,
     "metadata": {},
     "output_type": "execute_result"
    }
   ],
   "source": [
    "'hello'.index('o')"
   ]
  },
  {
   "cell_type": "code",
   "execution_count": 5,
   "id": "9243c3f6",
   "metadata": {},
   "outputs": [
    {
     "data": {
      "text/plain": [
       "['tsla', 'amzn', 66, 77, 67]"
      ]
     },
     "execution_count": 5,
     "metadata": {},
     "output_type": "execute_result"
    }
   ],
   "source": [
    "a=['tsla','amzn',66,77]\n",
    "a.append(67)\n",
    "a"
   ]
  },
  {
   "cell_type": "code",
   "execution_count": 7,
   "id": "7d576578",
   "metadata": {},
   "outputs": [
    {
     "data": {
      "text/plain": [
       "77"
      ]
     },
     "execution_count": 7,
     "metadata": {},
     "output_type": "execute_result"
    }
   ],
   "source": [
    "b={'tsla':77,'amzn':90}\n",
    "b.update({'nifty':69})\n",
    "b.get('tsla')"
   ]
  },
  {
   "cell_type": "code",
   "execution_count": 10,
   "id": "4d112522",
   "metadata": {},
   "outputs": [
    {
     "data": {
      "text/plain": [
       "1"
      ]
     },
     "execution_count": 10,
     "metadata": {},
     "output_type": "execute_result"
    }
   ],
   "source": [
    "n1=(44,55,66,88,99)  #tuple (it is immutable / we use ())\n",
    "n1[1:3]\n",
    "n1.index(55)"
   ]
  },
  {
   "cell_type": "code",
   "execution_count": null,
   "id": "301c2dc1",
   "metadata": {},
   "outputs": [
    {
     "data": {
      "text/plain": [
       "{55, 77, 88, 89}"
      ]
     },
     "execution_count": 11,
     "metadata": {},
     "output_type": "execute_result"
    }
   ],
   "source": [
    "b1={55,66,77,66,88}  #set.  (we cannot have duplicates/ we use {})\n",
    "b1.add(89)\n",
    "b1.remove(66)\n",
    "b1"
   ]
  },
  {
   "cell_type": "code",
   "execution_count": 19,
   "id": "a737be04",
   "metadata": {},
   "outputs": [
    {
     "data": {
      "text/plain": [
       "['44', '55', '66', '77', '88']"
      ]
     },
     "execution_count": 19,
     "metadata": {},
     "output_type": "execute_result"
    }
   ],
   "source": [
    "t='44,55,66,77,88'\n",
    "t.split(',')\n",
    "\n"
   ]
  },
  {
   "cell_type": "code",
   "execution_count": 20,
   "id": "a7f006cb",
   "metadata": {},
   "outputs": [
    {
     "data": {
      "text/plain": [
       "'tsla-amzn-goog'"
      ]
     },
     "execution_count": 20,
     "metadata": {},
     "output_type": "execute_result"
    }
   ],
   "source": [
    "l1=['tsla','amzn','goog']\n",
    "'-'.join(l1)"
   ]
  }
 ],
 "metadata": {
  "kernelspec": {
   "display_name": "Python 3",
   "language": "python",
   "name": "python3"
  },
  "language_info": {
   "codemirror_mode": {
    "name": "ipython",
    "version": 3
   },
   "file_extension": ".py",
   "mimetype": "text/x-python",
   "name": "python",
   "nbconvert_exporter": "python",
   "pygments_lexer": "ipython3",
   "version": "3.12.9"
  }
 },
 "nbformat": 4,
 "nbformat_minor": 5
}
