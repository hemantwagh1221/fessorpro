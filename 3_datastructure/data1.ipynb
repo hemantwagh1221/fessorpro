{
 "cells": [
  {
   "cell_type": "code",
   "execution_count": 41,
   "id": "4e4d83d5",
   "metadata": {},
   "outputs": [],
   "source": [
    "a=[20,30,40,55]"
   ]
  },
  {
   "cell_type": "code",
   "execution_count": 23,
   "id": "5c54c1e4",
   "metadata": {},
   "outputs": [
    {
     "data": {
      "text/plain": [
       "[20, 30]"
      ]
     },
     "execution_count": 23,
     "metadata": {},
     "output_type": "execute_result"
    }
   ],
   "source": [
    "a[0:2]"
   ]
  },
  {
   "cell_type": "code",
   "execution_count": 31,
   "id": "0ebbe8b9",
   "metadata": {},
   "outputs": [],
   "source": [
    "a.append(77)"
   ]
  },
  {
   "cell_type": "code",
   "execution_count": 33,
   "id": "aca9075d",
   "metadata": {},
   "outputs": [],
   "source": [
    "a.insert(1,66)"
   ]
  },
  {
   "cell_type": "code",
   "execution_count": 35,
   "id": "4497b208",
   "metadata": {},
   "outputs": [],
   "source": [
    "a.remove(77)"
   ]
  },
  {
   "cell_type": "code",
   "execution_count": 37,
   "id": "5bd05ea7",
   "metadata": {},
   "outputs": [
    {
     "data": {
      "text/plain": [
       "30"
      ]
     },
     "execution_count": 37,
     "metadata": {},
     "output_type": "execute_result"
    }
   ],
   "source": [
    "a.pop(2)"
   ]
  },
  {
   "cell_type": "code",
   "execution_count": 43,
   "id": "ed4a1325",
   "metadata": {},
   "outputs": [
    {
     "data": {
      "text/plain": [
       "[20, 30, 66, 55]"
      ]
     },
     "execution_count": 43,
     "metadata": {},
     "output_type": "execute_result"
    }
   ],
   "source": [
    "a"
   ]
  },
  {
   "cell_type": "code",
   "execution_count": 42,
   "id": "d86a387d",
   "metadata": {},
   "outputs": [],
   "source": [
    "a[2]=66"
   ]
  },
  {
   "cell_type": "code",
   "execution_count": 39,
   "id": "06051bd7",
   "metadata": {},
   "outputs": [],
   "source": [
    "del a[2]"
   ]
  }
 ],
 "metadata": {
  "kernelspec": {
   "display_name": "Python 3",
   "language": "python",
   "name": "python3"
  },
  "language_info": {
   "codemirror_mode": {
    "name": "ipython",
    "version": 3
   },
   "file_extension": ".py",
   "mimetype": "text/x-python",
   "name": "python",
   "nbconvert_exporter": "python",
   "pygments_lexer": "ipython3",
   "version": "3.12.9"
  }
 },
 "nbformat": 4,
 "nbformat_minor": 5
}
