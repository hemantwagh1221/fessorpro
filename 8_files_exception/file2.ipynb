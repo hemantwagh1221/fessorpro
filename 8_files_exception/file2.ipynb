{
 "cells": [
  {
   "cell_type": "code",
   "execution_count": 1,
   "id": "959ccbb6",
   "metadata": {},
   "outputs": [],
   "source": [
    "f1=open('demo3.txt','w')\n",
    "f1.write('sample data')        \n",
    "f1.close()\n"
   ]
  },
  {
   "cell_type": "code",
   "execution_count": 2,
   "id": "2826ed9d",
   "metadata": {},
   "outputs": [
    {
     "name": "stdout",
     "output_type": "stream",
     "text": [
      "sample data\n"
     ]
    }
   ],
   "source": [
    "f2=open('demo3.txt','r')\n",
    "d=f2.read()\n",
    "print(d)\n",
    "f2.close()"
   ]
  },
  {
   "cell_type": "code",
   "execution_count": 11,
   "id": "b91d2370",
   "metadata": {},
   "outputs": [
    {
     "name": "stdout",
     "output_type": "stream",
     "text": [
      "{'tsla': 100, 'nifty': 600}\n"
     ]
    }
   ],
   "source": [
    "def get_stocks(stock_prices):\n",
    "    portfolio={}\n",
    "    while True:\n",
    "        name=input('enter the stock name (q to quit)')\n",
    "        if name.upper()=='Q':\n",
    "            break\n",
    "        found=stock_prices.get(name)\n",
    "        if found:\n",
    "            portfolio.update({name:found})\n",
    "        else:\n",
    "            print('this stock does not exist try again')\n",
    "    return portfolio\n",
    "\n",
    "def save_data(portfolio):\n",
    "    f1=open('data.txt','a')\n",
    "    total=0\n",
    "    for i,j in portfolio.items():\n",
    "        d=i+\":\"+str(j)+'\\n'\n",
    "        f1.write(d)\n",
    "        total=total+j\n",
    "    f1.write(\"total\"+\":\"+str(total)+'\\n')\n",
    "    f1.close()\n",
    "\n",
    "stock_prices={'tsla':100,'nifty':600,'amzn':780,'nvda':756}\n",
    "p=get_stocks(stock_prices)\n",
    "print(p)\n",
    "save_data(p)"
   ]
  },
  {
   "cell_type": "code",
   "execution_count": 13,
   "id": "6ddcd6fe",
   "metadata": {},
   "outputs": [
    {
     "data": {
      "text/plain": [
       "'tsla:100\\namzn:780\\nnifty:600\\ntotal:1480\\ntsla:100\\nnifty:600\\ntotal:700\\n'"
      ]
     },
     "execution_count": 13,
     "metadata": {},
     "output_type": "execute_result"
    }
   ],
   "source": [
    "f2=open('data.txt','r')\n",
    "d=f2.read()\n",
    "d"
   ]
  },
  {
   "cell_type": "code",
   "execution_count": 17,
   "id": "e8d44d72",
   "metadata": {},
   "outputs": [
    {
     "name": "stdout",
     "output_type": "stream",
     "text": [
      "['tsla:100', 'amzn:780', 'nifty:600', 'total:1480', 'tsla:100', 'nifty:600', 'total:700', '']\n",
      "['tsla', '100']\n",
      "['amzn', '780']\n",
      "['nifty', '600']\n",
      "['total', '1480']\n",
      "['tsla', '100']\n",
      "['nifty', '600']\n",
      "['total', '700']\n",
      "{'tsla': 100, 'amzn': 780, 'nifty': 600, 'total': 700}\n"
     ]
    },
    {
     "data": {
      "text/plain": [
       "dict"
      ]
     },
     "execution_count": 17,
     "metadata": {},
     "output_type": "execute_result"
    }
   ],
   "source": [
    "input_data=d.split('\\n')\n",
    "print(input_data)\n",
    "sp={}\n",
    "for i in input_data:\n",
    "    if i==\"\":\n",
    "        continue\n",
    "    elem=i.split(\":\")\n",
    "    print(elem)\n",
    "    sp.update({elem[0]:int(elem[1])})\n",
    "print(sp)\n",
    "type(sp)"
   ]
  }
 ],
 "metadata": {
  "kernelspec": {
   "display_name": "Python 3",
   "language": "python",
   "name": "python3"
  },
  "language_info": {
   "codemirror_mode": {
    "name": "ipython",
    "version": 3
   },
   "file_extension": ".py",
   "mimetype": "text/x-python",
   "name": "python",
   "nbconvert_exporter": "python",
   "pygments_lexer": "ipython3",
   "version": "3.12.9"
  }
 },
 "nbformat": 4,
 "nbformat_minor": 5
}
